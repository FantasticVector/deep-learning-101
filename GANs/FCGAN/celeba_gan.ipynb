{
  "cells": [
    {
      "cell_type": "code",
      "execution_count": 1,
      "metadata": {
        "colab": {
          "base_uri": "https://localhost:8080/"
        },
        "id": "ayUNfKhd0etF",
        "outputId": "550c2424-5e7f-4b28-fd7d-a03cecf1cb71"
      },
      "outputs": [],
      "source": [
        "# Importing Libraries\n",
        "import torch \n",
        "import torch.nn as nn\n",
        "import torchvision\n",
        "import torch.optim as optim\n",
        "from torchvision import transforms\n",
        "from torch.utils.data import Dataset, DataLoader\n",
        "import matplotlib.pyplot as plt\n"
      ]
    },
    {
      "cell_type": "code",
      "execution_count": 2,
      "metadata": {
        "id": "vNtGAz4q1sMK"
      },
      "outputs": [],
      "source": [
        "# Parameters\n",
        "batch_size = 128\n",
        "img_size = 64\n",
        "noise_channels = 100\n",
        "img_channels = 3\n",
        "learning_rate = 0.0002\n",
        "num_epochs = 5\n",
        "device = torch.device('cuda' if torch.cuda.is_available() else 'cpu')"
      ]
    },
    {
      "cell_type": "code",
      "execution_count": 3,
      "metadata": {
        "colab": {
          "base_uri": "https://localhost:8080/"
        },
        "id": "Xb_SpN0X0zXJ",
        "outputId": "cfd3238f-f8f3-4816-dfb5-b941268d295d"
      },
      "outputs": [
        {
          "data": {
            "application/vnd.jupyter.widget-view+json": {
              "model_id": "7d12d6cfb9254a4c90542e2b55a8f4a8",
              "version_major": 2,
              "version_minor": 0
            },
            "text/plain": [
              "0it [00:00, ?it/s]"
            ]
          },
          "metadata": {},
          "output_type": "display_data"
        },
        {
          "data": {
            "application/vnd.jupyter.widget-view+json": {
              "model_id": "01893d9072634f0ab408aca3aedb6bfe",
              "version_major": 2,
              "version_minor": 0
            },
            "text/plain": [
              "0it [00:00, ?it/s]"
            ]
          },
          "metadata": {},
          "output_type": "display_data"
        },
        {
          "data": {
            "application/vnd.jupyter.widget-view+json": {
              "model_id": "ba2a62e73af84c4c9cbc1106df219d37",
              "version_major": 2,
              "version_minor": 0
            },
            "text/plain": [
              "0it [00:00, ?it/s]"
            ]
          },
          "metadata": {},
          "output_type": "display_data"
        },
        {
          "data": {
            "application/vnd.jupyter.widget-view+json": {
              "model_id": "feeafa3b77034fb1bad4b9e686c426f8",
              "version_major": 2,
              "version_minor": 0
            },
            "text/plain": [
              "0it [00:00, ?it/s]"
            ]
          },
          "metadata": {},
          "output_type": "display_data"
        },
        {
          "data": {
            "application/vnd.jupyter.widget-view+json": {
              "model_id": "26d5069f36994d3c97cc1322b3c5c2f1",
              "version_major": 2,
              "version_minor": 0
            },
            "text/plain": [
              "0it [00:00, ?it/s]"
            ]
          },
          "metadata": {},
          "output_type": "display_data"
        },
        {
          "data": {
            "application/vnd.jupyter.widget-view+json": {
              "model_id": "3efa967212c14a0e97b2f2b956fafab0",
              "version_major": 2,
              "version_minor": 0
            },
            "text/plain": [
              "0it [00:00, ?it/s]"
            ]
          },
          "metadata": {},
          "output_type": "display_data"
        }
      ],
      "source": [
        "# Transforms\n",
        "transforms = transforms.Compose([\n",
        "    transforms.ToTensor(),\n",
        "    transforms.Resize((img_size, img_size)),\n",
        "    # transforms.Normalize((0.485, 0.456, 0.406), (0.229, 0.224, 0.225)),\n",
        "])\n",
        "# Loading Dataset\n",
        "dataset = torchvision.datasets.CelebA(root='./data/', download=True, transform=transforms)\n",
        "dataloader = DataLoader(dataset, shuffle=True, batch_size=batch_size)\n",
        "dataloader = iter(dataloader)\n",
        "\n",
        "# Looking at sample images\n",
        "sample_images, labels = next(dataloader)\n",
        "def plot_images(images, labels, number):\n",
        "  for i in range(number):\n",
        "    image = sample_images[i].permute(1, 2, 0)\n",
        "    plt.subplot(4, number//4, i+1)\n",
        "    plt.imshow(image)\n",
        "\n",
        "plot_images(sample_images, labels, 16)"
      ]
    },
    {
      "cell_type": "code",
      "execution_count": 5,
      "metadata": {
        "id": "fuvTA8RZ5p4v"
      },
      "outputs": [],
      "source": [
        "# Designing A Model\n",
        "class Generator(nn.Module):\n",
        "  def __init__(self, img_channels, noise_channels):\n",
        "    super(Generator, self).__init__()\n",
        "    self.gen = nn.Sequential(\n",
        "        nn.ConvTranspose2d(noise_channels, 1024, kernel_size=4, stride=1, padding=0),\n",
        "        nn.BatchNorm2d(1024),\n",
        "        nn.ReLU(0.2),\n",
        "        nn.ConvTranspose2d(1024, 512, kernel_size=4, stride=2, padding=1),\n",
        "        nn.BatchNorm2d(512),\n",
        "        nn.ReLU(0.2),\n",
        "        nn.ConvTranspose2d(512, 256, kernel_size=4, stride=2, padding=1),\n",
        "        nn.BatchNorm2d(256),\n",
        "        nn.ReLU(0.2),\n",
        "        nn.ConvTranspose2d(256, 128, kernel_size=4, stride=2, padding=1),\n",
        "        nn.BatchNorm2d(128),\n",
        "        nn.ReLU(0.2),\n",
        "        nn.ConvTranspose2d(128, img_channels, kernel_size=4, stride=2, padding=1),\n",
        "        nn.Tanh(),\n",
        "    )\n",
        "\n",
        "  def forward(self, x):\n",
        "    return self.gen(x)\n",
        "\n",
        "class Discriminator(nn.Module):\n",
        "  def __init__(self, img_channels):\n",
        "    super(Discriminator, self).__init__()\n",
        "    self.disc = nn.Sequential(\n",
        "        nn.Conv2d(img_channels, 128, kernel_size=4, stride=2, padding=1),\n",
        "        nn.LeakyReLU(0.2),\n",
        "        nn.Conv2d(128, 256, kernel_size=4, stride=2, padding=1),\n",
        "        nn.BatchNorm2d(256),\n",
        "        nn.LeakyReLU(0.2),\n",
        "        nn.Conv2d(256, 512, kernel_size=4, stride=2, padding=1),\n",
        "        nn.BatchNorm2d(512),\n",
        "        nn.LeakyReLU(0.2),\n",
        "        nn.Conv2d(512, 1024, kernel_size=4, stride=2, padding=1),\n",
        "        nn.BatchNorm2d(1024),\n",
        "        nn.LeakyReLU(0.2),\n",
        "        nn.Conv2d(1024, 1, kernel_size=4, stride=2, padding=0),\n",
        "        nn.Sigmoid(),\n",
        "    )\n",
        "\n",
        "  def forward(self, x):\n",
        "    return self.disc(x)\n",
        "\n",
        "def initialize_weights(model):\n",
        "  for m in model.modules():\n",
        "    if isinstance(m, (nn.Conv2d, nn.ConvTranspose2d, nn.BatchNorm2d)):\n",
        "      nn.init.normal_(m.weight.data, 0.0, 0.02)\n",
        "\n",
        "# img_channels = 3\n",
        "# noise_channels = 100\n",
        "# batch_size = 32\n",
        "# noise = torch.randn((batch_size, noise_channels, 1, 1))\n",
        "# image = torch.randn((batch_size, img_channels, img_size, img_size))\n",
        "# gen = Generator(img_channels, noise_channels)\n",
        "# disc = Discriminator(img_channels)\n",
        "# gen_output = gen(noise)\n",
        "# print('Gen Shape: ', gen_output.size())\n",
        "# disc_output = disc(image)\n",
        "# print('Disc Shape: ', disc_output.size())"
      ]
    },
    {
      "cell_type": "code",
      "execution_count": 6,
      "metadata": {
        "id": "Xre9SmhtHn97"
      },
      "outputs": [],
      "source": [
        "# Initializing Models\n",
        "gen = Generator(img_channels, noise_channels).to(device)\n",
        "disc = Discriminator(img_channels).to(device)\n",
        "\n",
        "# Initializing Weights\n",
        "initialize_weights(gen)\n",
        "initialize_weights(disc)\n",
        "\n",
        "# Loss \n",
        "criterion = nn.BCELoss()\n",
        "\n",
        "# Optimizer\n",
        "gen_optim = optim.Adam(gen.parameters(), lr=learning_rate)\n",
        "disc_optim = optim.Adam(disc.parameters(), lr=learning_rate)\n",
        "\n",
        "# Noise\n",
        "noise = torch.randn(batch_size, noise_channels, 1, 1).to(device)"
      ]
    },
    {
      "cell_type": "code",
      "execution_count": 7,
      "metadata": {
        "id": "UhVlZJHXJp5X"
      },
      "outputs": [
        {
          "name": "stdout",
          "output_type": "stream",
          "text": [
            "Epoch 0/5 Batch 0/1272 GenLoss: 0.9090712070465088 DiscLoss: 0.6962864398956299\n"
          ]
        },
        {
          "ename": "KeyboardInterrupt",
          "evalue": "",
          "output_type": "error",
          "traceback": [
            "\u001b[1;31m---------------------------------------------------------------------------\u001b[0m",
            "\u001b[1;31mKeyboardInterrupt\u001b[0m                         Traceback (most recent call last)",
            "\u001b[1;32md:\\Courses\\ML\\deep-learning-101\\GANs\\FCGAN\\celeba_gan.ipynb Cell 6\u001b[0m in \u001b[0;36m<cell line: 3>\u001b[1;34m()\u001b[0m\n\u001b[0;32m      <a href='vscode-notebook-cell:/d%3A/Courses/ML/deep-learning-101/GANs/FCGAN/celeba_gan.ipynb#W6sZmlsZQ%3D%3D?line=6'>7</a>\u001b[0m fake \u001b[39m=\u001b[39m gen(noise)\n\u001b[0;32m     <a href='vscode-notebook-cell:/d%3A/Courses/ML/deep-learning-101/GANs/FCGAN/celeba_gan.ipynb#W6sZmlsZQ%3D%3D?line=9'>10</a>\u001b[0m \u001b[39m# Train Discriminator\u001b[39;00m\n\u001b[1;32m---> <a href='vscode-notebook-cell:/d%3A/Courses/ML/deep-learning-101/GANs/FCGAN/celeba_gan.ipynb#W6sZmlsZQ%3D%3D?line=10'>11</a>\u001b[0m disc_real \u001b[39m=\u001b[39m disc(real)\u001b[39m.\u001b[39mreshape(\u001b[39m-\u001b[39m\u001b[39m1\u001b[39m)\n\u001b[0;32m     <a href='vscode-notebook-cell:/d%3A/Courses/ML/deep-learning-101/GANs/FCGAN/celeba_gan.ipynb#W6sZmlsZQ%3D%3D?line=11'>12</a>\u001b[0m disc_fake \u001b[39m=\u001b[39m disc(fake)\u001b[39m.\u001b[39mreshape(\u001b[39m-\u001b[39m\u001b[39m1\u001b[39m)\n\u001b[0;32m     <a href='vscode-notebook-cell:/d%3A/Courses/ML/deep-learning-101/GANs/FCGAN/celeba_gan.ipynb#W6sZmlsZQ%3D%3D?line=12'>13</a>\u001b[0m dLoss_real \u001b[39m=\u001b[39m criterion(disc_real, torch\u001b[39m.\u001b[39mones_like(disc_real))\n",
            "File \u001b[1;32mc:\\Users\\Admin\\AppData\\Local\\Programs\\Python\\Python310\\lib\\site-packages\\torch\\nn\\modules\\module.py:1194\u001b[0m, in \u001b[0;36mModule._call_impl\u001b[1;34m(self, *input, **kwargs)\u001b[0m\n\u001b[0;32m   1190\u001b[0m \u001b[39m# If we don't have any hooks, we want to skip the rest of the logic in\u001b[39;00m\n\u001b[0;32m   1191\u001b[0m \u001b[39m# this function, and just call forward.\u001b[39;00m\n\u001b[0;32m   1192\u001b[0m \u001b[39mif\u001b[39;00m \u001b[39mnot\u001b[39;00m (\u001b[39mself\u001b[39m\u001b[39m.\u001b[39m_backward_hooks \u001b[39mor\u001b[39;00m \u001b[39mself\u001b[39m\u001b[39m.\u001b[39m_forward_hooks \u001b[39mor\u001b[39;00m \u001b[39mself\u001b[39m\u001b[39m.\u001b[39m_forward_pre_hooks \u001b[39mor\u001b[39;00m _global_backward_hooks\n\u001b[0;32m   1193\u001b[0m         \u001b[39mor\u001b[39;00m _global_forward_hooks \u001b[39mor\u001b[39;00m _global_forward_pre_hooks):\n\u001b[1;32m-> 1194\u001b[0m     \u001b[39mreturn\u001b[39;00m forward_call(\u001b[39m*\u001b[39m\u001b[39minput\u001b[39m, \u001b[39m*\u001b[39m\u001b[39m*\u001b[39mkwargs)\n\u001b[0;32m   1195\u001b[0m \u001b[39m# Do not call functions when jit is used\u001b[39;00m\n\u001b[0;32m   1196\u001b[0m full_backward_hooks, non_full_backward_hooks \u001b[39m=\u001b[39m [], []\n",
            "\u001b[1;32md:\\Courses\\ML\\deep-learning-101\\GANs\\FCGAN\\celeba_gan.ipynb Cell 6\u001b[0m in \u001b[0;36mDiscriminator.forward\u001b[1;34m(self, x)\u001b[0m\n\u001b[0;32m     <a href='vscode-notebook-cell:/d%3A/Courses/ML/deep-learning-101/GANs/FCGAN/celeba_gan.ipynb#W6sZmlsZQ%3D%3D?line=43'>44</a>\u001b[0m \u001b[39mdef\u001b[39;00m \u001b[39mforward\u001b[39m(\u001b[39mself\u001b[39m, x):\n\u001b[1;32m---> <a href='vscode-notebook-cell:/d%3A/Courses/ML/deep-learning-101/GANs/FCGAN/celeba_gan.ipynb#W6sZmlsZQ%3D%3D?line=44'>45</a>\u001b[0m   \u001b[39mreturn\u001b[39;00m \u001b[39mself\u001b[39;49m\u001b[39m.\u001b[39;49mdisc(x)\n",
            "File \u001b[1;32mc:\\Users\\Admin\\AppData\\Local\\Programs\\Python\\Python310\\lib\\site-packages\\torch\\nn\\modules\\module.py:1194\u001b[0m, in \u001b[0;36mModule._call_impl\u001b[1;34m(self, *input, **kwargs)\u001b[0m\n\u001b[0;32m   1190\u001b[0m \u001b[39m# If we don't have any hooks, we want to skip the rest of the logic in\u001b[39;00m\n\u001b[0;32m   1191\u001b[0m \u001b[39m# this function, and just call forward.\u001b[39;00m\n\u001b[0;32m   1192\u001b[0m \u001b[39mif\u001b[39;00m \u001b[39mnot\u001b[39;00m (\u001b[39mself\u001b[39m\u001b[39m.\u001b[39m_backward_hooks \u001b[39mor\u001b[39;00m \u001b[39mself\u001b[39m\u001b[39m.\u001b[39m_forward_hooks \u001b[39mor\u001b[39;00m \u001b[39mself\u001b[39m\u001b[39m.\u001b[39m_forward_pre_hooks \u001b[39mor\u001b[39;00m _global_backward_hooks\n\u001b[0;32m   1193\u001b[0m         \u001b[39mor\u001b[39;00m _global_forward_hooks \u001b[39mor\u001b[39;00m _global_forward_pre_hooks):\n\u001b[1;32m-> 1194\u001b[0m     \u001b[39mreturn\u001b[39;00m forward_call(\u001b[39m*\u001b[39m\u001b[39minput\u001b[39m, \u001b[39m*\u001b[39m\u001b[39m*\u001b[39mkwargs)\n\u001b[0;32m   1195\u001b[0m \u001b[39m# Do not call functions when jit is used\u001b[39;00m\n\u001b[0;32m   1196\u001b[0m full_backward_hooks, non_full_backward_hooks \u001b[39m=\u001b[39m [], []\n",
            "File \u001b[1;32mc:\\Users\\Admin\\AppData\\Local\\Programs\\Python\\Python310\\lib\\site-packages\\torch\\nn\\modules\\container.py:204\u001b[0m, in \u001b[0;36mSequential.forward\u001b[1;34m(self, input)\u001b[0m\n\u001b[0;32m    202\u001b[0m \u001b[39mdef\u001b[39;00m \u001b[39mforward\u001b[39m(\u001b[39mself\u001b[39m, \u001b[39minput\u001b[39m):\n\u001b[0;32m    203\u001b[0m     \u001b[39mfor\u001b[39;00m module \u001b[39min\u001b[39;00m \u001b[39mself\u001b[39m:\n\u001b[1;32m--> 204\u001b[0m         \u001b[39minput\u001b[39m \u001b[39m=\u001b[39m module(\u001b[39minput\u001b[39;49m)\n\u001b[0;32m    205\u001b[0m     \u001b[39mreturn\u001b[39;00m \u001b[39minput\u001b[39m\n",
            "File \u001b[1;32mc:\\Users\\Admin\\AppData\\Local\\Programs\\Python\\Python310\\lib\\site-packages\\torch\\nn\\modules\\module.py:1194\u001b[0m, in \u001b[0;36mModule._call_impl\u001b[1;34m(self, *input, **kwargs)\u001b[0m\n\u001b[0;32m   1190\u001b[0m \u001b[39m# If we don't have any hooks, we want to skip the rest of the logic in\u001b[39;00m\n\u001b[0;32m   1191\u001b[0m \u001b[39m# this function, and just call forward.\u001b[39;00m\n\u001b[0;32m   1192\u001b[0m \u001b[39mif\u001b[39;00m \u001b[39mnot\u001b[39;00m (\u001b[39mself\u001b[39m\u001b[39m.\u001b[39m_backward_hooks \u001b[39mor\u001b[39;00m \u001b[39mself\u001b[39m\u001b[39m.\u001b[39m_forward_hooks \u001b[39mor\u001b[39;00m \u001b[39mself\u001b[39m\u001b[39m.\u001b[39m_forward_pre_hooks \u001b[39mor\u001b[39;00m _global_backward_hooks\n\u001b[0;32m   1193\u001b[0m         \u001b[39mor\u001b[39;00m _global_forward_hooks \u001b[39mor\u001b[39;00m _global_forward_pre_hooks):\n\u001b[1;32m-> 1194\u001b[0m     \u001b[39mreturn\u001b[39;00m forward_call(\u001b[39m*\u001b[39m\u001b[39minput\u001b[39m, \u001b[39m*\u001b[39m\u001b[39m*\u001b[39mkwargs)\n\u001b[0;32m   1195\u001b[0m \u001b[39m# Do not call functions when jit is used\u001b[39;00m\n\u001b[0;32m   1196\u001b[0m full_backward_hooks, non_full_backward_hooks \u001b[39m=\u001b[39m [], []\n",
            "File \u001b[1;32mc:\\Users\\Admin\\AppData\\Local\\Programs\\Python\\Python310\\lib\\site-packages\\torch\\nn\\modules\\activation.py:775\u001b[0m, in \u001b[0;36mLeakyReLU.forward\u001b[1;34m(self, input)\u001b[0m\n\u001b[0;32m    774\u001b[0m \u001b[39mdef\u001b[39;00m \u001b[39mforward\u001b[39m(\u001b[39mself\u001b[39m, \u001b[39minput\u001b[39m: Tensor) \u001b[39m-\u001b[39m\u001b[39m>\u001b[39m Tensor:\n\u001b[1;32m--> 775\u001b[0m     \u001b[39mreturn\u001b[39;00m F\u001b[39m.\u001b[39;49mleaky_relu(\u001b[39minput\u001b[39;49m, \u001b[39mself\u001b[39;49m\u001b[39m.\u001b[39;49mnegative_slope, \u001b[39mself\u001b[39;49m\u001b[39m.\u001b[39;49minplace)\n",
            "File \u001b[1;32mc:\\Users\\Admin\\AppData\\Local\\Programs\\Python\\Python310\\lib\\site-packages\\torch\\nn\\functional.py:1632\u001b[0m, in \u001b[0;36mleaky_relu\u001b[1;34m(input, negative_slope, inplace)\u001b[0m\n\u001b[0;32m   1630\u001b[0m     result \u001b[39m=\u001b[39m torch\u001b[39m.\u001b[39m_C\u001b[39m.\u001b[39m_nn\u001b[39m.\u001b[39mleaky_relu_(\u001b[39minput\u001b[39m, negative_slope)\n\u001b[0;32m   1631\u001b[0m \u001b[39melse\u001b[39;00m:\n\u001b[1;32m-> 1632\u001b[0m     result \u001b[39m=\u001b[39m torch\u001b[39m.\u001b[39;49m_C\u001b[39m.\u001b[39;49m_nn\u001b[39m.\u001b[39;49mleaky_relu(\u001b[39minput\u001b[39;49m, negative_slope)\n\u001b[0;32m   1633\u001b[0m \u001b[39mreturn\u001b[39;00m result\n",
            "\u001b[1;31mKeyboardInterrupt\u001b[0m: "
          ]
        }
      ],
      "source": [
        "disc_losses = []\n",
        "gen_losses = []\n",
        "for epoch in range(1):\n",
        "  for i, (images, labels) in enumerate(dataloader):\n",
        "    real = images.to(device)\n",
        "    noise = torch.randn(batch_size, noise_channels, 1, 1).to(device)\n",
        "    fake = gen(noise)\n",
        "\n",
        "\n",
        "    # Train Discriminator\n",
        "    disc_real = disc(real).reshape(-1)\n",
        "    disc_fake = disc(fake).reshape(-1)\n",
        "    dLoss_real = criterion(disc_real, torch.ones_like(disc_real))\n",
        "    dLoss_fake = criterion(disc_fake, torch.zeros_like(disc_fake))\n",
        "    disc_loss = (dLoss_real + dLoss_fake) / 2\n",
        "    \n",
        "    # Discriminator Backpropagation\n",
        "    disc_optim.zero_grad()\n",
        "    disc_loss.backward(retain_graph=True)\n",
        "    disc_optim.step()\n",
        "\n",
        "    # Training Generator\n",
        "    output = disc(fake).reshape(-1)\n",
        "    gen_loss = criterion(output, torch.ones_like(output))\n",
        "    \n",
        "    # Generator Backprop\n",
        "    gen_optim.zero_grad()\n",
        "    gen_loss.backward()\n",
        "    gen_optim.step()\n",
        "\n",
        "    if i % 100 == 0:\n",
        "      with torch.no_grad():\n",
        "        print(f'Epoch {epoch}/{num_epochs} Batch {i}/{len(dataloader)} GenLoss: {gen_loss.item()} DiscLoss: {disc_loss.item()}')\n",
        "        # Plot Real vs Fake Images.\n",
        "        gen_losses.append(gen_loss.item())\n",
        "        disc_losses.append(disc_loss.item())\n"
      ]
    },
    {
      "cell_type": "code",
      "execution_count": null,
      "metadata": {
        "id": "Sm2wSky1QJIn"
      },
      "outputs": [],
      "source": [
        "plt.plot(disc_losses, color='orange')\n",
        "plt.plot(gen_losses, color='green')\n",
        "plt.show()"
      ]
    }
  ],
  "metadata": {
    "accelerator": "GPU",
    "colab": {
      "provenance": []
    },
    "gpuClass": "standard",
    "kernelspec": {
      "display_name": "Python 3",
      "language": "python",
      "name": "python3"
    },
    "language_info": {
      "codemirror_mode": {
        "name": "ipython",
        "version": 3
      },
      "file_extension": ".py",
      "mimetype": "text/x-python",
      "name": "python",
      "nbconvert_exporter": "python",
      "pygments_lexer": "ipython3",
      "version": "3.10.5"
    },
    "vscode": {
      "interpreter": {
        "hash": "a42ccb73e7d9bfdf27e036f1d2b8b681e55fc0743cc5586bc2474d4a60f4b886"
      }
    }
  },
  "nbformat": 4,
  "nbformat_minor": 0
}
