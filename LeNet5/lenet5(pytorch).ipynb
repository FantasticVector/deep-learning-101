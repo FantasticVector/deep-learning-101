{
 "cells": [
  {
   "cell_type": "code",
   "execution_count": 1,
   "metadata": {},
   "outputs": [],
   "source": [
    "# Importing Libraries\n",
    "import torch\n",
    "import torch.nn as nn\n",
    "import torchvision\n",
    "import torchvision.transforms as transforms\n",
    "\n",
    "# Variables \n",
    "batch_size = 64\n",
    "num_classes = 10\n",
    "learning_rate = 0.001\n",
    "num_epochs = 10\n",
    "\n",
    "# Device\n",
    "device = torch.device('cuda' if torch.cuda.is_available() else 'cpu')"
   ]
  },
  {
   "cell_type": "code",
   "execution_count": 3,
   "metadata": {},
   "outputs": [],
   "source": [
    "# Loading Data\n",
    "train_dataset = torchvision.datasets.MNIST(root='./data', \n",
    "        train = True, \n",
    "        transform=transforms.Compose([\n",
    "          transforms.Resize((32, 32)),\n",
    "          transforms.ToTensor(),\n",
    "          transforms.Normalize(mean=(0.1307,), std=(0.3081,))\n",
    "        ]), download=True)\n",
    "test_dataset = torchvision.datasets.MNIST(root='./data', \n",
    "        train = False, \n",
    "        transform=transforms.Compose([\n",
    "          transforms.Resize((32, 32)),\n",
    "          transforms.ToTensor(),\n",
    "          transforms.Normalize(mean=(0.1307,), std=(0.3081,))\n",
    "        ]), download=True)\n",
    "\n",
    "train_loader = torch.utils.data.DataLoader(\n",
    "  dataset = train_dataset,\n",
    "  batch_size=batch_size,\n",
    "  shuffle=True)\n",
    "test_loader = torch.utils.data.DataLoader(\n",
    "  dataset = test_dataset,\n",
    "  batch_size=batch_size,\n",
    "  shuffle=True)"
   ]
  },
  {
   "cell_type": "code",
   "execution_count": 8,
   "metadata": {},
   "outputs": [],
   "source": [
    "# LeNet5 Model\n",
    "\n",
    "class LeNet5(nn.Module):\n",
    "  def __init__(self, num_classes):\n",
    "    super(LeNet5, self).__init__()\n",
    "    self.layer1 = nn.Sequential(\n",
    "      nn.Conv2d(1, 6, kernel_size=5, stride=1, padding=0),\n",
    "      nn.BatchNorm2d(6),\n",
    "      nn.ReLU(),\n",
    "      nn.MaxPool2d(kernel_size=2, stride=2)\n",
    "    )\n",
    "    self.layer2 = nn.Sequential(\n",
    "      nn.Conv2d(6, 16, kernel_size=5, stride=1, padding=0),\n",
    "      nn.BatchNorm2d(16),\n",
    "      nn.ReLU(),\n",
    "      nn.MaxPool2d(kernel_size=2, stride=2)\n",
    "    )\n",
    "    self.fc = nn.Linear(400, 120)\n",
    "    self.relu = nn.ReLU()\n",
    "    self.fc1 = nn.Linear(120, 84)\n",
    "    self.relu1 = nn.ReLU()\n",
    "    self.fc2 = nn.Linear(84, num_classes)\n",
    "  \n",
    "  def forward(self, x):\n",
    "    out = self.layer1(x)\n",
    "    out = self.layer2(out)\n",
    "    out = out.reshape(out.size(0), -1)\n",
    "    out = self.fc(out)\n",
    "    out = self.relu(out)\n",
    "    out = self.fc1(out)\n",
    "    out = self.relu1(out)\n",
    "    out = self.fc2(out)\n",
    "    return out"
   ]
  },
  {
   "cell_type": "code",
   "execution_count": 9,
   "metadata": {},
   "outputs": [],
   "source": [
    "# Setting HuperParameters\n",
    "model = LeNet5(num_classes).to(device)\n",
    "\n",
    "# Loss Function\n",
    "cost = nn.CrossEntropyLoss()\n",
    "optimizer = torch.optim.Adam(model.parameters(), lr = learning_rate)\n",
    "\n",
    "total_step = len(train_loader)"
   ]
  },
  {
   "cell_type": "code",
   "execution_count": 12,
   "metadata": {},
   "outputs": [
    {
     "name": "stdout",
     "output_type": "stream",
     "text": [
      "Epoch [1/10], Step [400/938], Loss: 0.1437\n",
      "Epoch [1/10], Step [800/938], Loss: 0.0239\n",
      "Epoch [2/10], Step [400/938], Loss: 0.0736\n",
      "Epoch [2/10], Step [800/938], Loss: 0.0261\n",
      "Epoch [3/10], Step [400/938], Loss: 0.0046\n",
      "Epoch [3/10], Step [800/938], Loss: 0.0181\n",
      "Epoch [4/10], Step [400/938], Loss: 0.1688\n",
      "Epoch [4/10], Step [800/938], Loss: 0.1086\n",
      "Epoch [5/10], Step [400/938], Loss: 0.0079\n",
      "Epoch [5/10], Step [800/938], Loss: 0.0424\n",
      "Epoch [6/10], Step [400/938], Loss: 0.0027\n",
      "Epoch [6/10], Step [800/938], Loss: 0.0016\n",
      "Epoch [7/10], Step [400/938], Loss: 0.0020\n",
      "Epoch [7/10], Step [800/938], Loss: 0.0255\n",
      "Epoch [8/10], Step [400/938], Loss: 0.0043\n",
      "Epoch [8/10], Step [800/938], Loss: 0.0023\n",
      "Epoch [9/10], Step [400/938], Loss: 0.0010\n",
      "Epoch [9/10], Step [800/938], Loss: 0.0109\n",
      "Epoch [10/10], Step [400/938], Loss: 0.0035\n",
      "Epoch [10/10], Step [800/938], Loss: 0.0071\n"
     ]
    }
   ],
   "source": [
    "for epoch in range(num_epochs):\n",
    "  for i, (images, labels) in enumerate(train_loader):\n",
    "    images = images.to(device)\n",
    "    labels = labels.to(device)\n",
    "\n",
    "    outputs = model(images)\n",
    "    loss = cost(outputs, labels)\n",
    "\n",
    "    optimizer.zero_grad()\n",
    "    loss.backward()\n",
    "    optimizer.step()\n",
    "\n",
    "    if (i+1) % 400 == 0:\n",
    "      print ('Epoch [{}/{}], Step [{}/{}], Loss: {:.4f}'.format(epoch+1, num_epochs, i+1, total_step, loss.item()))"
   ]
  },
  {
   "cell_type": "code",
   "execution_count": 13,
   "metadata": {},
   "outputs": [
    {
     "name": "stdout",
     "output_type": "stream",
     "text": [
      "Accuracy of the network on the 10000 test images: 98.83 %\n"
     ]
    }
   ],
   "source": [
    "with torch.no_grad():\n",
    "    correct = 0\n",
    "    total = 0\n",
    "    for images, labels in test_loader:\n",
    "        images = images.to(device)\n",
    "        labels = labels.to(device)\n",
    "        outputs = model(images)\n",
    "        _, predicted = torch.max(outputs.data, 1)\n",
    "        total += labels.size(0)\n",
    "        correct += (predicted == labels).sum().item()\n",
    "\n",
    "    print('Accuracy of the network on the 10000 test images: {} %'.format(100 * correct / total))"
   ]
  }
 ],
 "metadata": {
  "kernelspec": {
   "display_name": "Python 3.10.5 64-bit",
   "language": "python",
   "name": "python3"
  },
  "language_info": {
   "codemirror_mode": {
    "name": "ipython",
    "version": 3
   },
   "file_extension": ".py",
   "mimetype": "text/x-python",
   "name": "python",
   "nbconvert_exporter": "python",
   "pygments_lexer": "ipython3",
   "version": "3.10.5"
  },
  "orig_nbformat": 4,
  "vscode": {
   "interpreter": {
    "hash": "a42ccb73e7d9bfdf27e036f1d2b8b681e55fc0743cc5586bc2474d4a60f4b886"
   }
  }
 },
 "nbformat": 4,
 "nbformat_minor": 2
}
