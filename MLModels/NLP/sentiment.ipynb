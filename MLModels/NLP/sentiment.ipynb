{
 "cells": [
  {
   "cell_type": "code",
   "execution_count": 258,
   "metadata": {},
   "outputs": [],
   "source": [
    "import os\n",
    "import pandas as pd\n",
    "import spacy\n",
    "import torch\n",
    "from torch.nn.utils.rnn import pad_sequence\n",
    "from torch.utils.data import DataLoader, Dataset, random_split\n",
    "from keras.utils import pad_sequences\n",
    "from sklearn.preprocessing import LabelEncoder\n",
    "from PIL import Image\n",
    "from torch.utils.data import DataLoader\n",
    "le = LabelEncoder()\n",
    "nlp = spacy.load(\"en_core_web_sm\")"
   ]
  },
  {
   "cell_type": "code",
   "execution_count": 259,
   "metadata": {},
   "outputs": [],
   "source": [
    "from nltk.corpus import stopwords\n",
    "from collections import Counter\n",
    "from nltk.stem import WordNetLemmatizer\n",
    "import re\n",
    "import nltk\n",
    "lemmatizer = WordNetLemmatizer()\n",
    "stop_words = stopwords.words('english')\n",
    "def clean_text(text):\n",
    "  text = re.sub('www.\\S+', ' ', text)\n",
    "  text = re.sub('https?.\\S+', ' ', text)\n",
    "  text = re.sub('[^A-Za-z@]+', ' ', text)\n",
    "  text = [word.lower() for word in text.split(' ') if word not in stop_words]\n",
    "  return ' '.join(text)"
   ]
  },
  {
   "cell_type": "code",
   "execution_count": 260,
   "metadata": {},
   "outputs": [
    {
     "data": {
      "text/html": [
       "<div>\n",
       "<style scoped>\n",
       "    .dataframe tbody tr th:only-of-type {\n",
       "        vertical-align: middle;\n",
       "    }\n",
       "\n",
       "    .dataframe tbody tr th {\n",
       "        vertical-align: top;\n",
       "    }\n",
       "\n",
       "    .dataframe thead th {\n",
       "        text-align: right;\n",
       "    }\n",
       "</style>\n",
       "<table border=\"1\" class=\"dataframe\">\n",
       "  <thead>\n",
       "    <tr style=\"text-align: right;\">\n",
       "      <th></th>\n",
       "      <th>sentiment</th>\n",
       "      <th>text</th>\n",
       "    </tr>\n",
       "  </thead>\n",
       "  <tbody>\n",
       "    <tr>\n",
       "      <th>0</th>\n",
       "      <td>3</td>\n",
       "      <td>im getting borderlands murder</td>\n",
       "    </tr>\n",
       "    <tr>\n",
       "      <th>1</th>\n",
       "      <td>3</td>\n",
       "      <td>i coming borders i kill</td>\n",
       "    </tr>\n",
       "    <tr>\n",
       "      <th>2</th>\n",
       "      <td>3</td>\n",
       "      <td>im getting borderlands kill</td>\n",
       "    </tr>\n",
       "    <tr>\n",
       "      <th>3</th>\n",
       "      <td>3</td>\n",
       "      <td>im coming borderlands murder</td>\n",
       "    </tr>\n",
       "    <tr>\n",
       "      <th>4</th>\n",
       "      <td>3</td>\n",
       "      <td>im getting borderlands murder</td>\n",
       "    </tr>\n",
       "  </tbody>\n",
       "</table>\n",
       "</div>"
      ],
      "text/plain": [
       "   sentiment                            text\n",
       "0          3  im getting borderlands murder \n",
       "1          3        i coming borders i kill \n",
       "2          3    im getting borderlands kill \n",
       "3          3   im coming borderlands murder \n",
       "4          3  im getting borderlands murder "
      ]
     },
     "execution_count": 260,
     "metadata": {},
     "output_type": "execute_result"
    }
   ],
   "source": [
    "class Vocabulary:\n",
    "  def __init__(self, freq_threshold, sequence_len):\n",
    "    self.itos = {0:'<PAD>', 1:'<SOS>', 2:'<EOS>', 3:'<UNK>'}\n",
    "    self.stoi = {v:k for k, v in self.itos.items()}\n",
    "    self.freq_threshold = freq_threshold\n",
    "    self.sequence_len = sequence_len\n",
    "  \n",
    "  def __len__(self):\n",
    "    return len(self.itos)\n",
    "  \n",
    "  @staticmethod\n",
    "  def tokenizer_eng(text):\n",
    "    return [token.text.lower() for token in nlp.tokenizer(text)]\n",
    "  \n",
    "  def build_vocabulary(self, sentence_list):\n",
    "    frequencies = {}\n",
    "    idx = 4\n",
    "    for sentence in sentence_list:\n",
    "      for word in self.tokenizer_eng(sentence):\n",
    "        if word in frequencies:\n",
    "          frequencies[word] += 1\n",
    "        else: frequencies[word] = 1\n",
    "        if frequencies[word] == self.freq_threshold:\n",
    "          self.stoi[word] = idx\n",
    "          self.itos[idx] = word\n",
    "          idx += 1\n",
    "  \n",
    "  def numericalize(self, text, padding=False):\n",
    "    pad_idx = self.stoi['<PAD>']\n",
    "    tokenized_text = []\n",
    "    for token in self.tokenizer_eng(text):\n",
    "      if token in self.stoi:\n",
    "        tokenized_text.append(self.stoi[token])\n",
    "      else:\n",
    "        tokenized_text.append(self.stoi['<UNK>'])\n",
    "    if padding:\n",
    "      tokenized_text = [pad_idx]*(self.sequence_len - len(tokenized_text)) + tokenized_text\n",
    "    return tokenized_text[-self.sequence_len:]\n",
    "  \n",
    "    \n",
    "class TweetDataset(Dataset):\n",
    "  def __init__(self, root_dir, sequence_len, freq_threshold=5):\n",
    "    self.df = pd.read_csv(root_dir).iloc[:, 2:].dropna()\n",
    "    self.df.columns = ['sentiment', 'text']\n",
    "    self.df['text'] = self.df['text'].apply(clean_text)\n",
    "    self.le = LabelEncoder()\n",
    "    self.df['sentiment'] = le.fit_transform(self.df['sentiment'])\n",
    "    self.vocab = Vocabulary(freq_threshold, sequence_len)\n",
    "    self.vocab.build_vocabulary(self.df['text'])\n",
    "\n",
    "  def __len__(self):\n",
    "    return len(self.df)\n",
    "  \n",
    "  def __getitem__(self, index):\n",
    "    sentiment = self.df['sentiment'][index]\n",
    "    text = self.df['text'][index]\n",
    "    numericalized_text = [self.vocab.stoi[\"<SOS>\"]]\n",
    "    numericalized_text += self.vocab.numericalize(text, padding=True)\n",
    "    numericalized_text.append(self.vocab.stoi[\"<EOS>\"])\n",
    "    return torch.tensor(numericalized_text), sentiment\n",
    "\n",
    "dataset = TweetDataset('../data/twitter_training.csv', sequence_len=10)\n",
    "dataset.df.head()"
   ]
  },
  {
   "cell_type": "code",
   "execution_count": 261,
   "metadata": {},
   "outputs": [
    {
     "data": {
      "text/plain": [
       "73996"
      ]
     },
     "execution_count": 261,
     "metadata": {},
     "output_type": "execute_result"
    }
   ],
   "source": [
    "len(dataset)"
   ]
  },
  {
   "cell_type": "code",
   "execution_count": 264,
   "metadata": {},
   "outputs": [],
   "source": [
    "total_size = len(dataset)\n",
    "train_size = int(total_size*0.9)\n",
    "train_data, test_data = random_split(dataset, [train_size, total_size-train_size])\n",
    "train_loader = DataLoader(train_data, batch_size=32, shuffle=True)\n",
    "test_loader = DataLoader(test_data, batch_size=32, shuffle=True)\n",
    "text, sentiments = next(iter(train_loader))"
   ]
  },
  {
   "cell_type": "code",
   "execution_count": null,
   "metadata": {},
   "outputs": [],
   "source": [
    "import torch.nn as nn\n",
    "class Model(nn.Module):\n",
    "  def __init__(self, input_size, output_size, hidden_size) -> None:\n",
    "    super(Model).__init__()\n",
    "    self.hidden_size = hidden_size\n",
    "    self.rnn = nn.RNN(input_size, hidden_size, batch_first=True)\n",
    "    self.fc = nn.Linear(hidden_size, output_size)\n",
    "  \n",
    "  def forward(self, x):\n",
    "    batch_size = x.size(0)\n",
    "    hidden = self.init_hidden(batch_size)\n",
    "    output, hidden = self.rnn(x, hidden)\n",
    "    output = output.contiguous.view(-1, self.hidden_size)\n",
    "    output = self.fc(output)\n",
    "    return output, hidden\n",
    "  \n",
    "  def init_hidden(self, batch_size):\n",
    "    hidden = torch.zeros(batch_size, self.hidden_size)\n",
    "    return hidden\n",
    "\n",
    "model = Model()\n",
    "\n",
    "\n"
   ]
  }
 ],
 "metadata": {
  "kernelspec": {
   "display_name": "Python 3",
   "language": "python",
   "name": "python3"
  },
  "language_info": {
   "codemirror_mode": {
    "name": "ipython",
    "version": 3
   },
   "file_extension": ".py",
   "mimetype": "text/x-python",
   "name": "python",
   "nbconvert_exporter": "python",
   "pygments_lexer": "ipython3",
   "version": "3.10.5 (tags/v3.10.5:f377153, Jun  6 2022, 16:14:13) [MSC v.1929 64 bit (AMD64)]"
  },
  "orig_nbformat": 4,
  "vscode": {
   "interpreter": {
    "hash": "a42ccb73e7d9bfdf27e036f1d2b8b681e55fc0743cc5586bc2474d4a60f4b886"
   }
  }
 },
 "nbformat": 4,
 "nbformat_minor": 2
}
