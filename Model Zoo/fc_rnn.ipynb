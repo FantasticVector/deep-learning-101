{
  "cells": [
    {
      "cell_type": "code",
      "execution_count": 1,
      "metadata": {
        "colab": {
          "base_uri": "https://localhost:8080/"
        },
        "id": "0tyCsobsyDU1",
        "outputId": "c3b02c62-66bc-4739-b4db-65ef198fe719"
      },
      "outputs": [
        {
          "name": "stdout",
          "output_type": "stream",
          "text": [
            "[WinError 3] The system cannot find the path specified: \"'/content/drive/MyDrive/Deep Learning/RNNs'\"\n",
            "d:\\Courses\\ML\\deep-learning-101\\Model Zoo\n"
          ]
        }
      ],
      "source": [
        "# Importing Libraries\n",
        "import torch\n",
        "import torch.nn as nn\n",
        "import matplotlib.pyplot as plt\n",
        "import numpy as np\n",
        "from tqdm import tqdm\n",
        "%cd '/content/drive/MyDrive/Deep Learning/RNNs'"
      ]
    },
    {
      "cell_type": "code",
      "execution_count": 4,
      "metadata": {
        "id": "1M1cFHKGz6tQ"
      },
      "outputs": [
        {
          "ename": "UnicodeDecodeError",
          "evalue": "'charmap' codec can't decode byte 0x81 in position 144: character maps to <undefined>",
          "output_type": "error",
          "traceback": [
            "\u001b[1;31m---------------------------------------------------------------------------\u001b[0m",
            "\u001b[1;31mUnicodeDecodeError\u001b[0m                        Traceback (most recent call last)",
            "\u001b[1;32md:\\Courses\\ML\\deep-learning-101\\Model Zoo\\fc_rnn.ipynb Cell 2\u001b[0m in \u001b[0;36m<cell line: 35>\u001b[1;34m()\u001b[0m\n\u001b[0;32m     <a href='vscode-notebook-cell:/d%3A/Courses/ML/deep-learning-101/Model%20Zoo/fc_rnn.ipynb#W1sZmlsZQ%3D%3D?line=37'>38</a>\u001b[0m languages\u001b[39m.\u001b[39mappend(category)\n\u001b[0;32m     <a href='vscode-notebook-cell:/d%3A/Courses/ML/deep-learning-101/Model%20Zoo/fc_rnn.ipynb#W1sZmlsZQ%3D%3D?line=38'>39</a>\u001b[0m data[category] \u001b[39m=\u001b[39m []\n\u001b[1;32m---> <a href='vscode-notebook-cell:/d%3A/Courses/ML/deep-learning-101/Model%20Zoo/fc_rnn.ipynb#W1sZmlsZQ%3D%3D?line=39'>40</a>\u001b[0m \u001b[39mfor\u001b[39;00m line \u001b[39min\u001b[39;00m file\u001b[39m.\u001b[39;49mreadlines():\n\u001b[0;32m     <a href='vscode-notebook-cell:/d%3A/Courses/ML/deep-learning-101/Model%20Zoo/fc_rnn.ipynb#W1sZmlsZQ%3D%3D?line=40'>41</a>\u001b[0m   data[category]\u001b[39m.\u001b[39mappend(unicode_to_ascii(line))\n",
            "File \u001b[1;32mc:\\Users\\Admin\\AppData\\Local\\Programs\\Python\\Python310\\lib\\encodings\\cp1252.py:23\u001b[0m, in \u001b[0;36mIncrementalDecoder.decode\u001b[1;34m(self, input, final)\u001b[0m\n\u001b[0;32m     22\u001b[0m \u001b[39mdef\u001b[39;00m \u001b[39mdecode\u001b[39m(\u001b[39mself\u001b[39m, \u001b[39minput\u001b[39m, final\u001b[39m=\u001b[39m\u001b[39mFalse\u001b[39;00m):\n\u001b[1;32m---> 23\u001b[0m     \u001b[39mreturn\u001b[39;00m codecs\u001b[39m.\u001b[39;49mcharmap_decode(\u001b[39minput\u001b[39;49m,\u001b[39mself\u001b[39;49m\u001b[39m.\u001b[39;49merrors,decoding_table)[\u001b[39m0\u001b[39m]\n",
            "\u001b[1;31mUnicodeDecodeError\u001b[0m: 'charmap' codec can't decode byte 0x81 in position 144: character maps to <undefined>"
          ]
        }
      ],
      "source": [
        "# Loading Dataset\n",
        "import string\n",
        "import os\n",
        "import unicodedata\n",
        "import random\n",
        "\n",
        "# parameters\n",
        "alphabets = string.ascii_letters + \" .,;'\"\n",
        "data_path = './data/names/'\n",
        "total_chars = len(alphabets)\n",
        "\n",
        "# some functions\n",
        "def unicode_to_ascii(s):\n",
        "  return ''.join(\n",
        "      c for c in unicodedata.normalize('NFD', s)\n",
        "      if unicodedata.category(c) != 'Mn'\n",
        "      and c in alphabets\n",
        "  )\n",
        "\n",
        "def word_to_tensor(word):\n",
        "  tensor = torch.zeros(len(word), 1, total_chars)\n",
        "  for i, letter in enumerate(word):\n",
        "    tensor[i][0][alphabets.find(letter)] = 1\n",
        "  return tensor\n",
        "\n",
        "def random_example(languages, data):\n",
        "  language = random.choice(languages)\n",
        "  language_tensor = torch.tensor([languages.index(language)])\n",
        "  word = random.choice(data[language])\n",
        "  return language_tensor, word_to_tensor(word)\n",
        "\n",
        "# some functions\n",
        "languages = []\n",
        "data = {}\n",
        "for file_name in os.listdir(data_path):\n",
        "  category = file_name.split('.')[0]\n",
        "  file = open(data_path+file_name, 'r')\n",
        "  languages.append(category)\n",
        "  data[category] = []\n",
        "  for line in file.readlines():\n",
        "    data[category].append(unicode_to_ascii(line))"
      ]
    },
    {
      "cell_type": "code",
      "execution_count": 16,
      "metadata": {
        "id": "ix1lwn5gytZB"
      },
      "outputs": [],
      "source": [
        "# Our RNN Model\n",
        "class RNN(nn.Module):\n",
        "  def __init__(self, input_size, hidden_size, output_size):\n",
        "    super().__init__()\n",
        "    self.hidden_size = hidden_size\n",
        "    self.i2h = nn.Linear(input_size+hidden_size, hidden_size)\n",
        "    self.i2o = nn.Linear(input_size+hidden_size, output_size)\n",
        "    self.softmax = nn.LogSoftmax(dim=1)\n",
        "  \n",
        "  def forward(self, input_tensor, hidden_tensor):\n",
        "    combined = torch.cat((input_tensor, hidden_tensor), 1)\n",
        "    hidden = self.i2h(combined)\n",
        "    output = self.i2o(combined)\n",
        "    output = self.softmax(output)\n",
        "    return output, hidden\n",
        "  \n",
        "  def init_hidden(self):\n",
        "    return torch.zeros(1, self.hidden_size)"
      ]
    },
    {
      "cell_type": "code",
      "execution_count": 17,
      "metadata": {
        "id": "JScFUVn34-Ai"
      },
      "outputs": [],
      "source": [
        "# Initializing Models\n",
        "device = 'cuda' if torch.cuda.is_available() else 'cpu'\n",
        "input_size = len(alphabets)\n",
        "output_size = len(languages)\n",
        "hidden_size = 128\n",
        "learning_rate = 0.005\n",
        "iterations = 100000\n",
        "\n",
        "rnn = RNN(input_size, hidden_size, output_size).to(device)\n",
        "criterion = nn.NLLLoss()\n",
        "optimizer = torch.optim.SGD(rnn.parameters(), lr=learning_rate)"
      ]
    },
    {
      "cell_type": "code",
      "execution_count": 18,
      "metadata": {
        "colab": {
          "base_uri": "https://localhost:8080/"
        },
        "id": "Fe2ftVNO5ATF",
        "outputId": "59d01d62-321c-4868-aa47-a2f129d5d5bc"
      },
      "outputs": [
        {
          "name": "stderr",
          "output_type": "stream",
          "text": [
            "100%|██████████| 100000/100000 [02:11<00:00, 759.11it/s]\n"
          ]
        }
      ],
      "source": [
        "losses = []\n",
        "curr_loss = 0\n",
        "for i in tqdm(range(iterations)):\n",
        "  language, word = random_example(languages, data)\n",
        "  hidden = rnn.init_hidden()\n",
        "  for letter in word:\n",
        "    output, hidden = rnn(letter, hidden)\n",
        "  loss = criterion(output, language)\n",
        "  optimizer.zero_grad()\n",
        "  loss.backward()\n",
        "  optimizer.step()\n",
        "\n",
        "  losses.append(loss.item())"
      ]
    },
    {
      "cell_type": "code",
      "execution_count": 19,
      "metadata": {
        "colab": {
          "base_uri": "https://localhost:8080/",
          "height": 286
        },
        "id": "2WKsSyBp9rb6",
        "outputId": "1dcf0010-3ebd-4a70-b3d7-f2728da2f9ba"
      },
      "outputs": [
        {
          "data": {
            "text/plain": [
              "<function matplotlib.pyplot.show(*args, **kw)>"
            ]
          },
          "execution_count": 19,
          "metadata": {},
          "output_type": "execute_result"
        },
        {
          "data": {
            "image/png": "[encoded data removed]",
            "text/plain": [
              "<Figure size 432x288 with 1 Axes>"
            ]
          },
          "metadata": {
            "needs_background": "light"
          },
          "output_type": "display_data"
        }
      ],
      "source": [
        "plt.figure()\n",
        "plt.plot(losses)\n",
        "plt.show"
      ]
    },
    {
      "cell_type": "code",
      "execution_count": 30,
      "metadata": {
        "id": "mwoOJ9TdEXVM"
      },
      "outputs": [],
      "source": [
        "def predict(word):\n",
        "  with torch.no_grad():\n",
        "    word_tensor = word_to_tensor(word)\n",
        "    hidden = rnn.init_hidden()\n",
        "    for letter in word_tensor:\n",
        "      output, hidden = rnn(letter, hidden)\n",
        "    guess = torch.argmax(output)\n",
        "    print(f'Word: {word}, Predicted: {languages[guess.item()]}')"
      ]
    },
    {
      "cell_type": "code",
      "execution_count": 52,
      "metadata": {
        "colab": {
          "base_uri": "https://localhost:8080/"
        },
        "id": "nxmGAwR_FOCQ",
        "outputId": "34b05491-facb-4a96-888e-81188beb23a4"
      },
      "outputs": [
        {
          "name": "stdout",
          "output_type": "stream",
          "text": [
            "Word: bukowski, Predicted: Polish\n"
          ]
        }
      ],
      "source": [
        "predict('bukowski')"
      ]
    },
    {
      "cell_type": "code",
      "execution_count": null,
      "metadata": {
        "id": "0lueaxoWF1an"
      },
      "outputs": [],
      "source": []
    }
  ],
  "metadata": {
    "accelerator": "GPU",
    "colab": {
      "provenance": []
    },
    "gpuClass": "standard",
    "kernelspec": {
      "display_name": "Python 3",
      "language": "python",
      "name": "python3"
    },
    "language_info": {
      "codemirror_mode": {
        "name": "ipython",
        "version": 3
      },
      "file_extension": ".py",
      "mimetype": "text/x-python",
      "name": "python",
      "nbconvert_exporter": "python",
      "pygments_lexer": "ipython3",
      "version": "3.10.5 (tags/v3.10.5:f377153, Jun  6 2022, 16:14:13) [MSC v.1929 64 bit (AMD64)]"
    },
    "vscode": {
      "interpreter": {
        "hash": "a42ccb73e7d9bfdf27e036f1d2b8b681e55fc0743cc5586bc2474d4a60f4b886"
      }
    }
  },
  "nbformat": 4,
  "nbformat_minor": 0
}
