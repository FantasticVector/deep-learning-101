{
 "cells": [
  {
   "cell_type": "code",
   "execution_count": 39,
   "metadata": {},
   "outputs": [],
   "source": [
    "import torch\n",
    "import torch.nn as nn\n",
    "from torch.autograd import Variable\n",
    "import numpy as np\n",
    "import tqdm"
   ]
  },
  {
   "cell_type": "code",
   "execution_count": 34,
   "metadata": {},
   "outputs": [],
   "source": [
    "class RNNCell(nn.Module):\n",
    "  def __init__(self, input_size, hidden_size, output_size, nonlinearity='tanh') -> None:\n",
    "    super().__init__()\n",
    "    self.i2o = nn.Linear(input_size+hidden_size, output_size)\n",
    "    self.i2h = nn.Linear(input_size+hidden_size, hidden_size)\n",
    "    self.tanh = nn.Tanh()\n",
    "  \n",
    "  def forward(self, input_tensor, hidden_tensor):\n",
    "    combined = torch.cat((input_tensor, hidden_tensor), dim=1)\n",
    "    output = self.tanh(self.i2o(combined))\n",
    "    hidden = self.tanh(self.i2h(combined))\n",
    "\n",
    "    return output, hidden\n",
    "\n",
    "class RNN(nn.Module):\n",
    "  def __init__(self, input_size, output_size, hidden_size, num_layers) -> None:\n",
    "    super(RNN, self).__init__()\n",
    "    self.input_size = input_size\n",
    "    self.output_size = output_size\n",
    "    self.hidden_size = hidden_size\n",
    "    self.num_layers = num_layers\n",
    "    self.layers = nn.ModuleList()\n",
    "\n",
    "    for i in range(self.num_layers):\n",
    "      self.layers.append(\n",
    "        RNNCell(self.input_size, self.hidden_size, self.output_size)\n",
    "      )\n",
    "    self.fc = nn.Linear(self.input_size, self.output_size)\n",
    "\n",
    "  def forward(self, input_tensor, hidden_tensor):\n",
    "    for i in range(self.num_layers):\n",
    "      input_tensor, hidden_tensor[i] = self.layers[i](input_tensor, hidden_tensor[i])\n",
    "    output = self.fc(input_tensor)\n",
    "    return torch.argmax(output), hidden_tensor"
   ]
  },
  {
   "cell_type": "code",
   "execution_count": 32,
   "metadata": {},
   "outputs": [],
   "source": [
    "# Loading Dataset\n",
    "import string\n",
    "import os\n",
    "import unicodedata\n",
    "import random\n",
    "\n",
    "# parameters\n",
    "alphabets = string.ascii_letters + \" .,;'\"\n",
    "data_path = './data/names/'\n",
    "total_chars = len(alphabets)\n",
    "\n",
    "# some functions\n",
    "def unicode_to_ascii(s):\n",
    "  return ''.join(\n",
    "      c for c in unicodedata.normalize('NFD', s)\n",
    "      if unicodedata.category(c) != 'Mn'\n",
    "      and c in alphabets\n",
    "  )\n",
    "\n",
    "def word_to_tensor(word):\n",
    "  tensor = torch.zeros(len(word), 1, total_chars)\n",
    "  for i, letter in enumerate(word):\n",
    "    tensor[i][0][alphabets.find(letter)] = 1\n",
    "  return tensor\n",
    "\n",
    "def random_example(languages, data):\n",
    "  language = random.choice(languages)\n",
    "  language_tensor = torch.tensor([languages.index(language)])\n",
    "  word = random.choice(data[language])\n",
    "  return language_tensor, word_to_tensor(word)\n",
    "\n",
    "# some functions\n",
    "languages = []\n",
    "data = {}\n",
    "for file_name in os.listdir(data_path):\n",
    "  category = file_name.split('.')[0]\n",
    "  file = open(data_path+file_name, 'r', encoding='utf-8')\n",
    "  languages.append(category)\n",
    "  data[category] = []\n",
    "  for line in file.readlines():\n",
    "    data[category].append(unicode_to_ascii(line))"
   ]
  },
  {
   "cell_type": "code",
   "execution_count": 38,
   "metadata": {},
   "outputs": [],
   "source": [
    "# parameters\n",
    "input_size = len(alphabets)\n",
    "output_size = len(languages)\n",
    "hidden_size = 128\n",
    "num_layers = 3\n",
    "learning_rate = 0.005\n",
    "iterations = 10000\n",
    "rnn = RNN(input_size, output_size, hidden_size, num_layers)\n",
    "criterion = nn.NLLLoss()\n",
    "optimizer = torch.optim.SGD(rnn.parameters(), lr=learning_rate)"
   ]
  },
  {
   "cell_type": "code",
   "execution_count": 44,
   "metadata": {},
   "outputs": [
    {
     "ename": "RuntimeError",
     "evalue": "mat1 and mat2 shapes cannot be multiplied (1x146 and 185x18)",
     "output_type": "error",
     "traceback": [
      "\u001b[1;31m---------------------------------------------------------------------------\u001b[0m",
      "\u001b[1;31mRuntimeError\u001b[0m                              Traceback (most recent call last)",
      "\u001b[1;32md:\\Courses\\ML\\deep-learning-101\\Model Zoo\\rnn.ipynb Cell 5\u001b[0m in \u001b[0;36m<cell line: 3>\u001b[1;34m()\u001b[0m\n\u001b[0;32m      <a href='vscode-notebook-cell:/d%3A/Courses/ML/deep-learning-101/Model%20Zoo/rnn.ipynb#W6sZmlsZQ%3D%3D?line=4'>5</a>\u001b[0m hidden \u001b[39m=\u001b[39m torch\u001b[39m.\u001b[39mrandn(num_layers, \u001b[39m1\u001b[39m, hidden_size)\n\u001b[0;32m      <a href='vscode-notebook-cell:/d%3A/Courses/ML/deep-learning-101/Model%20Zoo/rnn.ipynb#W6sZmlsZQ%3D%3D?line=5'>6</a>\u001b[0m \u001b[39mfor\u001b[39;00m letter \u001b[39min\u001b[39;00m word:\n\u001b[1;32m----> <a href='vscode-notebook-cell:/d%3A/Courses/ML/deep-learning-101/Model%20Zoo/rnn.ipynb#W6sZmlsZQ%3D%3D?line=6'>7</a>\u001b[0m   output, hidden \u001b[39m=\u001b[39m rnn(letter, hidden)\n\u001b[0;32m      <a href='vscode-notebook-cell:/d%3A/Courses/ML/deep-learning-101/Model%20Zoo/rnn.ipynb#W6sZmlsZQ%3D%3D?line=7'>8</a>\u001b[0m loss \u001b[39m=\u001b[39m criterion(output, language)\n\u001b[0;32m      <a href='vscode-notebook-cell:/d%3A/Courses/ML/deep-learning-101/Model%20Zoo/rnn.ipynb#W6sZmlsZQ%3D%3D?line=8'>9</a>\u001b[0m optimizer\u001b[39m.\u001b[39mzero_grad()\n",
      "File \u001b[1;32mc:\\Users\\Admin\\AppData\\Local\\Programs\\Python\\Python310\\lib\\site-packages\\torch\\nn\\modules\\module.py:1190\u001b[0m, in \u001b[0;36mModule._call_impl\u001b[1;34m(self, *input, **kwargs)\u001b[0m\n\u001b[0;32m   1186\u001b[0m \u001b[39m# If we don't have any hooks, we want to skip the rest of the logic in\u001b[39;00m\n\u001b[0;32m   1187\u001b[0m \u001b[39m# this function, and just call forward.\u001b[39;00m\n\u001b[0;32m   1188\u001b[0m \u001b[39mif\u001b[39;00m \u001b[39mnot\u001b[39;00m (\u001b[39mself\u001b[39m\u001b[39m.\u001b[39m_backward_hooks \u001b[39mor\u001b[39;00m \u001b[39mself\u001b[39m\u001b[39m.\u001b[39m_forward_hooks \u001b[39mor\u001b[39;00m \u001b[39mself\u001b[39m\u001b[39m.\u001b[39m_forward_pre_hooks \u001b[39mor\u001b[39;00m _global_backward_hooks\n\u001b[0;32m   1189\u001b[0m         \u001b[39mor\u001b[39;00m _global_forward_hooks \u001b[39mor\u001b[39;00m _global_forward_pre_hooks):\n\u001b[1;32m-> 1190\u001b[0m     \u001b[39mreturn\u001b[39;00m forward_call(\u001b[39m*\u001b[39m\u001b[39minput\u001b[39m, \u001b[39m*\u001b[39m\u001b[39m*\u001b[39mkwargs)\n\u001b[0;32m   1191\u001b[0m \u001b[39m# Do not call functions when jit is used\u001b[39;00m\n\u001b[0;32m   1192\u001b[0m full_backward_hooks, non_full_backward_hooks \u001b[39m=\u001b[39m [], []\n",
      "\u001b[1;32md:\\Courses\\ML\\deep-learning-101\\Model Zoo\\rnn.ipynb Cell 5\u001b[0m in \u001b[0;36mRNN.forward\u001b[1;34m(self, input_tensor, hidden_tensor)\u001b[0m\n\u001b[0;32m     <a href='vscode-notebook-cell:/d%3A/Courses/ML/deep-learning-101/Model%20Zoo/rnn.ipynb#W6sZmlsZQ%3D%3D?line=29'>30</a>\u001b[0m \u001b[39mdef\u001b[39;00m \u001b[39mforward\u001b[39m(\u001b[39mself\u001b[39m, input_tensor, hidden_tensor):\n\u001b[0;32m     <a href='vscode-notebook-cell:/d%3A/Courses/ML/deep-learning-101/Model%20Zoo/rnn.ipynb#W6sZmlsZQ%3D%3D?line=30'>31</a>\u001b[0m   \u001b[39mfor\u001b[39;00m i \u001b[39min\u001b[39;00m \u001b[39mrange\u001b[39m(\u001b[39mself\u001b[39m\u001b[39m.\u001b[39mnum_layers):\n\u001b[1;32m---> <a href='vscode-notebook-cell:/d%3A/Courses/ML/deep-learning-101/Model%20Zoo/rnn.ipynb#W6sZmlsZQ%3D%3D?line=31'>32</a>\u001b[0m     input_tensor, hidden_tensor[i] \u001b[39m=\u001b[39m \u001b[39mself\u001b[39;49m\u001b[39m.\u001b[39;49mlayers[i](input_tensor, hidden_tensor[i])\n\u001b[0;32m     <a href='vscode-notebook-cell:/d%3A/Courses/ML/deep-learning-101/Model%20Zoo/rnn.ipynb#W6sZmlsZQ%3D%3D?line=32'>33</a>\u001b[0m   output \u001b[39m=\u001b[39m \u001b[39mself\u001b[39m\u001b[39m.\u001b[39mfc(input_tensor)\n\u001b[0;32m     <a href='vscode-notebook-cell:/d%3A/Courses/ML/deep-learning-101/Model%20Zoo/rnn.ipynb#W6sZmlsZQ%3D%3D?line=33'>34</a>\u001b[0m   \u001b[39mreturn\u001b[39;00m torch\u001b[39m.\u001b[39margmax(output), hidden_tensor\n",
      "File \u001b[1;32mc:\\Users\\Admin\\AppData\\Local\\Programs\\Python\\Python310\\lib\\site-packages\\torch\\nn\\modules\\module.py:1190\u001b[0m, in \u001b[0;36mModule._call_impl\u001b[1;34m(self, *input, **kwargs)\u001b[0m\n\u001b[0;32m   1186\u001b[0m \u001b[39m# If we don't have any hooks, we want to skip the rest of the logic in\u001b[39;00m\n\u001b[0;32m   1187\u001b[0m \u001b[39m# this function, and just call forward.\u001b[39;00m\n\u001b[0;32m   1188\u001b[0m \u001b[39mif\u001b[39;00m \u001b[39mnot\u001b[39;00m (\u001b[39mself\u001b[39m\u001b[39m.\u001b[39m_backward_hooks \u001b[39mor\u001b[39;00m \u001b[39mself\u001b[39m\u001b[39m.\u001b[39m_forward_hooks \u001b[39mor\u001b[39;00m \u001b[39mself\u001b[39m\u001b[39m.\u001b[39m_forward_pre_hooks \u001b[39mor\u001b[39;00m _global_backward_hooks\n\u001b[0;32m   1189\u001b[0m         \u001b[39mor\u001b[39;00m _global_forward_hooks \u001b[39mor\u001b[39;00m _global_forward_pre_hooks):\n\u001b[1;32m-> 1190\u001b[0m     \u001b[39mreturn\u001b[39;00m forward_call(\u001b[39m*\u001b[39m\u001b[39minput\u001b[39m, \u001b[39m*\u001b[39m\u001b[39m*\u001b[39mkwargs)\n\u001b[0;32m   1191\u001b[0m \u001b[39m# Do not call functions when jit is used\u001b[39;00m\n\u001b[0;32m   1192\u001b[0m full_backward_hooks, non_full_backward_hooks \u001b[39m=\u001b[39m [], []\n",
      "\u001b[1;32md:\\Courses\\ML\\deep-learning-101\\Model Zoo\\rnn.ipynb Cell 5\u001b[0m in \u001b[0;36mRNNCell.forward\u001b[1;34m(self, input_tensor, hidden_tensor)\u001b[0m\n\u001b[0;32m      <a href='vscode-notebook-cell:/d%3A/Courses/ML/deep-learning-101/Model%20Zoo/rnn.ipynb#W6sZmlsZQ%3D%3D?line=7'>8</a>\u001b[0m \u001b[39mdef\u001b[39;00m \u001b[39mforward\u001b[39m(\u001b[39mself\u001b[39m, input_tensor, hidden_tensor):\n\u001b[0;32m      <a href='vscode-notebook-cell:/d%3A/Courses/ML/deep-learning-101/Model%20Zoo/rnn.ipynb#W6sZmlsZQ%3D%3D?line=8'>9</a>\u001b[0m   combined \u001b[39m=\u001b[39m torch\u001b[39m.\u001b[39mcat((input_tensor, hidden_tensor), dim\u001b[39m=\u001b[39m\u001b[39m1\u001b[39m)\n\u001b[1;32m---> <a href='vscode-notebook-cell:/d%3A/Courses/ML/deep-learning-101/Model%20Zoo/rnn.ipynb#W6sZmlsZQ%3D%3D?line=9'>10</a>\u001b[0m   output \u001b[39m=\u001b[39m \u001b[39mself\u001b[39m\u001b[39m.\u001b[39mtanh(\u001b[39mself\u001b[39;49m\u001b[39m.\u001b[39;49mi2o(combined))\n\u001b[0;32m     <a href='vscode-notebook-cell:/d%3A/Courses/ML/deep-learning-101/Model%20Zoo/rnn.ipynb#W6sZmlsZQ%3D%3D?line=10'>11</a>\u001b[0m   hidden \u001b[39m=\u001b[39m \u001b[39mself\u001b[39m\u001b[39m.\u001b[39mtanh(\u001b[39mself\u001b[39m\u001b[39m.\u001b[39mi2h(combined))\n\u001b[0;32m     <a href='vscode-notebook-cell:/d%3A/Courses/ML/deep-learning-101/Model%20Zoo/rnn.ipynb#W6sZmlsZQ%3D%3D?line=12'>13</a>\u001b[0m   \u001b[39mreturn\u001b[39;00m output, hidden\n",
      "File \u001b[1;32mc:\\Users\\Admin\\AppData\\Local\\Programs\\Python\\Python310\\lib\\site-packages\\torch\\nn\\modules\\module.py:1190\u001b[0m, in \u001b[0;36mModule._call_impl\u001b[1;34m(self, *input, **kwargs)\u001b[0m\n\u001b[0;32m   1186\u001b[0m \u001b[39m# If we don't have any hooks, we want to skip the rest of the logic in\u001b[39;00m\n\u001b[0;32m   1187\u001b[0m \u001b[39m# this function, and just call forward.\u001b[39;00m\n\u001b[0;32m   1188\u001b[0m \u001b[39mif\u001b[39;00m \u001b[39mnot\u001b[39;00m (\u001b[39mself\u001b[39m\u001b[39m.\u001b[39m_backward_hooks \u001b[39mor\u001b[39;00m \u001b[39mself\u001b[39m\u001b[39m.\u001b[39m_forward_hooks \u001b[39mor\u001b[39;00m \u001b[39mself\u001b[39m\u001b[39m.\u001b[39m_forward_pre_hooks \u001b[39mor\u001b[39;00m _global_backward_hooks\n\u001b[0;32m   1189\u001b[0m         \u001b[39mor\u001b[39;00m _global_forward_hooks \u001b[39mor\u001b[39;00m _global_forward_pre_hooks):\n\u001b[1;32m-> 1190\u001b[0m     \u001b[39mreturn\u001b[39;00m forward_call(\u001b[39m*\u001b[39m\u001b[39minput\u001b[39m, \u001b[39m*\u001b[39m\u001b[39m*\u001b[39mkwargs)\n\u001b[0;32m   1191\u001b[0m \u001b[39m# Do not call functions when jit is used\u001b[39;00m\n\u001b[0;32m   1192\u001b[0m full_backward_hooks, non_full_backward_hooks \u001b[39m=\u001b[39m [], []\n",
      "File \u001b[1;32mc:\\Users\\Admin\\AppData\\Local\\Programs\\Python\\Python310\\lib\\site-packages\\torch\\nn\\modules\\linear.py:114\u001b[0m, in \u001b[0;36mLinear.forward\u001b[1;34m(self, input)\u001b[0m\n\u001b[0;32m    113\u001b[0m \u001b[39mdef\u001b[39;00m \u001b[39mforward\u001b[39m(\u001b[39mself\u001b[39m, \u001b[39minput\u001b[39m: Tensor) \u001b[39m-\u001b[39m\u001b[39m>\u001b[39m Tensor:\n\u001b[1;32m--> 114\u001b[0m     \u001b[39mreturn\u001b[39;00m F\u001b[39m.\u001b[39;49mlinear(\u001b[39minput\u001b[39;49m, \u001b[39mself\u001b[39;49m\u001b[39m.\u001b[39;49mweight, \u001b[39mself\u001b[39;49m\u001b[39m.\u001b[39;49mbias)\n",
      "\u001b[1;31mRuntimeError\u001b[0m: mat1 and mat2 shapes cannot be multiplied (1x146 and 185x18)"
     ]
    }
   ],
   "source": [
    "losses = []\n",
    "curr_loss = 0\n",
    "for i in range(iterations):\n",
    "  language, word = random_example(languages, data)\n",
    "  hidden = torch.randn(num_layers, 1, hidden_size)\n",
    "  for letter in word:\n",
    "    output, hidden = rnn(letter, hidden)\n",
    "  loss = criterion(output, language)\n",
    "  optimizer.zero_grad()\n",
    "  loss.backward()\n",
    "  optimizer.step()\n",
    "\n",
    "  losses.append(loss.item())"
   ]
  }
 ],
 "metadata": {
  "kernelspec": {
   "display_name": "Python 3",
   "language": "python",
   "name": "python3"
  },
  "language_info": {
   "codemirror_mode": {
    "name": "ipython",
    "version": 3
   },
   "file_extension": ".py",
   "mimetype": "text/x-python",
   "name": "python",
   "nbconvert_exporter": "python",
   "pygments_lexer": "ipython3",
   "version": "3.10.5"
  },
  "orig_nbformat": 4,
  "vscode": {
   "interpreter": {
    "hash": "a42ccb73e7d9bfdf27e036f1d2b8b681e55fc0743cc5586bc2474d4a60f4b886"
   }
  }
 },
 "nbformat": 4,
 "nbformat_minor": 2
}
